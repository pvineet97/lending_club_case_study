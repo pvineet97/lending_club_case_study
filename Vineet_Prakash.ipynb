{
 "cells": [
  {
   "cell_type": "markdown",
   "metadata": {},
   "source": [
    "## Importing libraries"
   ]
  },
  {
   "cell_type": "code",
   "execution_count": null,
   "metadata": {},
   "outputs": [],
   "source": [
    "import pandas as pd\n",
    "import seaborn as sns\n",
    "import missingno as msno\n",
    "import plotly.express as px"
   ]
  },
  {
   "cell_type": "code",
   "execution_count": null,
   "metadata": {},
   "outputs": [],
   "source": [
    "NA_THR = 0.5\n",
    "COLOR_PALETTE = px.colors.qualitative.Set2\n",
    "SNS_CMAP = sns.light_palette(\"orange\", as_cmap=True)"
   ]
  },
  {
   "attachments": {},
   "cell_type": "markdown",
   "metadata": {},
   "source": [
    "## Data Understanding (Explanation of key variables)\n",
    "\n",
    "1. id - Unique id for loan listing\n",
    "2. member_id - Unique id for the borrower\n",
    "3. loan_amnt - Amount requested by the borrower\n",
    "4. funded_amnt - Amount appproved by the lending club\n",
    "5. funded_amnt_inv - Amount lent by the investor or the final amount which the borrower received\n",
    "6. term - Time for which the amount is lent\n",
    "7. int_rate - Interest rate for the loan\n",
    "8. installment - Amount to be paid every month\n",
    "9. grade - Grade assigned by the lending club, parameter for determinig the risk , ranges from A-G\n",
    "10. sub_grade - Subgrade assigned from 1-5 for all the grades. Like A1-A5, based on those the interest keeps on increasing as the risk also increases\n",
    "11. emp_title - Job title for the borrower\n",
    "12. emp_length - No of employment years\n",
    "13. home_ownership -  Indicates if the borrower has own house, rented, mortagaged or other\n",
    "14. verification_status - Indicates if income source is verified or not\n",
    "15. annual_inc - Annual income of the borrower\n",
    "16. loan_status - Indicates if the person has successfully paid a loan or is a defaulter\n",
    "17. purpose - Indicates the purpose of the loan\n",
    "18. title - Loan title provided by borrower , also describes the purpose\n",
    "19. zip_code - Aip code of his communication residence\n",
    "20. addr_state - Communication address\n",
    "21. dti - A ratio calculated using the borrower’s total monthly debt payments on the total debt obligations, excluding mortgage and the requested LC loan, divided by the borrower’s self-reported monthly income.\n",
    "22. pub_rec_bankruptcies - Number of public record bankruptcies"
   ]
  },
  {
   "cell_type": "markdown",
   "metadata": {},
   "source": [
    "##  Data cleaning"
   ]
  },
  {
   "attachments": {},
   "cell_type": "markdown",
   "metadata": {},
   "source": [
    "Following is the data cleaning process followed:\n",
    " - Remove rows where the borrower is still in the process of paying out the loan\n",
    " - Remove customer behaviour variables as those are not available at the time of loan application\n",
    " - Drop columns where there are more than 50% NA values\n",
    " - Drop columns where there is only one unique value as these will not contribute to the analysis\n",
    " - Change interest rate column from string to numeric\n",
    " - The target variable (Loan status) is binarized such that 1 represents default and 0 represents that the loan has been fully paid, for ease of analysis"
   ]
  },
  {
   "cell_type": "code",
   "execution_count": null,
   "metadata": {},
   "outputs": [],
   "source": [
    "loan_df = pd.read_csv(\"loan.csv\", low_memory=False)\n",
    "\n",
    "## Remove records where loan has not been completed\n",
    "loan_df = loan_df[loan_df.loan_status != \"Current\"]\n",
    "\n",
    "## Remove customer behaviour variables\n",
    "columns_to_drop = [\"delinq_2yrs\",\"earliest_cr_line\",\"inq_last_6mths\",\"open_acc\",\"pub_rec\",\"revol_bal\",\"revol_util\",\"total_acc\",\n",
    "    \"out_prncp\",\"out_prncp_inv\",\"total_pymnt\",\"total_pymnt_inv\",\"total_rec_prncp\",\"total_rec_int\",\"total_rec_late_fee\",\n",
    "    \"recoveries\",\"collection_recovery_fee\",\"last_pymnt_d\",\"last_pymnt_amnt\",\"last_credit_pull_d\",\"application_type\"]\n",
    "\n",
    "loan_df.drop(columns_to_drop, axis=1, inplace=True)\n",
    "\n",
    "# Drop columns with more than 50% of NA values\n",
    "loan_df = loan_df.dropna(axis='columns', thresh=NA_THR * loan_df.shape[0])\n"
   ]
  },
  {
   "cell_type": "code",
   "execution_count": null,
   "metadata": {},
   "outputs": [],
   "source": [
    "##dropping columns with unique values as they won't contribute to the analysis\n",
    "loan_df.nunique().sort_values()\n"
   ]
  },
  {
   "cell_type": "code",
   "execution_count": null,
   "metadata": {},
   "outputs": [],
   "source": [
    "#dropping all columns with unique values\n",
    "loan_df.drop(['tax_liens', 'delinq_amnt', 'chargeoff_within_12_mths', 'acc_now_delinq', 'policy_code', 'collections_12_mths_ex_med', 'initial_list_status', 'pymnt_plan'], axis=1, inplace=True)\n",
    "loan_df.info()"
   ]
  },
  {
   "cell_type": "code",
   "execution_count": null,
   "metadata": {},
   "outputs": [],
   "source": [
    "## Binarize y variable\n",
    "loan_df[\"Defaulted\"] = 0\n",
    "loan_df.loc[loan_df.loan_status == \"Charged Off\", \"Defaulted\"] = 1\n",
    "\n",
    "\n",
    "##Creating a new column for ratio of approved amount by investor, \n",
    "loan_df['approved_amount_ratio']= (loan_df.funded_amnt_inv/loan_df.loan_amnt) * 100\n",
    "\n",
    "## Change interest rate column to numeric\n",
    "loan_df[\"int_rate_numeric\"] = loan_df.int_rate.apply(lambda x: x.strip(\"%\")).astype(float)\n",
    "\n",
    "## Remove rows where employee length is not available\n",
    "loan_df = loan_df[~loan_df.emp_length.isna()]\n"
   ]
  },
  {
   "cell_type": "code",
   "execution_count": null,
   "metadata": {},
   "outputs": [],
   "source": [
    "loan_df.loan_status.value_counts()"
   ]
  },
  {
   "cell_type": "code",
   "execution_count": null,
   "metadata": {},
   "outputs": [],
   "source": [
    "msno.matrix(loan_df)"
   ]
  },
  {
   "attachments": {},
   "cell_type": "markdown",
   "metadata": {},
   "source": [
    "The graph above shows that the largest number of missing values are present in the 'desc' column folowed by the 'emp_title' column. Since these two variables will not be used for further analysis, the missing values are left as is. However, if we wanted to impute the missing values for the variable  'emp_title', we could use the mode of the column to do so"
   ]
  },
  {
   "cell_type": "markdown",
   "metadata": {},
   "source": [
    "## Univariate Analysis"
   ]
  },
  {
   "attachments": {},
   "cell_type": "markdown",
   "metadata": {},
   "source": [
    "### Analysing the distribution of annual income"
   ]
  },
  {
   "cell_type": "code",
   "execution_count": null,
   "metadata": {},
   "outputs": [],
   "source": [
    "px.violin(loan_df['annual_inc'],box=True, color_discrete_sequence=COLOR_PALETTE)"
   ]
  },
  {
   "attachments": {},
   "cell_type": "markdown",
   "metadata": {},
   "source": [
    "### Observation\n",
    "It can be seen that the annual income variable is highly affected by outliers. Since an annual income of more than $200000 is unlikely, these outliers can be removed from the dataset as follows"
   ]
  },
  {
   "cell_type": "code",
   "execution_count": null,
   "metadata": {},
   "outputs": [],
   "source": [
    "loan_df = loan_df[loan_df.annual_inc <=200000]"
   ]
  },
  {
   "attachments": {},
   "cell_type": "markdown",
   "metadata": {},
   "source": [
    "### Analysing the distribution of annual income post outlier removal"
   ]
  },
  {
   "cell_type": "code",
   "execution_count": null,
   "metadata": {},
   "outputs": [],
   "source": [
    "### Analysing the distribution of annual income"
   ]
  },
  {
   "cell_type": "code",
   "execution_count": null,
   "metadata": {},
   "outputs": [],
   "source": [
    "px.violin(loan_df, y=\"annual_inc\",box=True, color_discrete_sequence=COLOR_PALETTE)"
   ]
  },
  {
   "attachments": {},
   "cell_type": "markdown",
   "metadata": {},
   "source": [
    "### Analysing the distribution of the loan_amnt,funded_Amnt and funded_amnt_inv"
   ]
  },
  {
   "cell_type": "code",
   "execution_count": null,
   "metadata": {},
   "outputs": [],
   "source": [
    "amnt_types = ['loan_amnt', 'funded_amnt', 'funded_amnt_inv']\n",
    "px.violin(loan_df[amnt_types],box=True, color_discrete_sequence=COLOR_PALETTE)"
   ]
  },
  {
   "attachments": {},
   "cell_type": "markdown",
   "metadata": {},
   "source": [
    "### Observation:\n",
    "\n",
    "1. Each of the variables loan_amnt, funded_amnt and funded_amnt_inv have very similar distributions\n",
    "2. The range amnt for the loan_amnt and funded_amnt is 500-35k, which indicates all the loans are atleast approved by Lending club. For funded_amnt_inv ranges from 0-35k. Since the minimum value is 0, it means there are loans which were not approved by the investor"
   ]
  },
  {
   "cell_type": "markdown",
   "metadata": {},
   "source": [
    "### Analysing the distribution of house_ownership variable"
   ]
  },
  {
   "cell_type": "code",
   "execution_count": null,
   "metadata": {},
   "outputs": [],
   "source": [
    "px.histogram(loan_df['home_ownership'], color_discrete_sequence=COLOR_PALETTE)"
   ]
  },
  {
   "attachments": {},
   "cell_type": "markdown",
   "metadata": {},
   "source": [
    "### Observations\n",
    " Most no of borrowers are either having a rented or a mortagaged house, there are very less people with own house"
   ]
  },
  {
   "cell_type": "markdown",
   "metadata": {},
   "source": [
    "### Analysing the distribution of the employee years of experience"
   ]
  },
  {
   "cell_type": "code",
   "execution_count": null,
   "metadata": {},
   "outputs": [],
   "source": [
    "px.histogram(loan_df,x=\"emp_length\",barmode=\"group\",category_orders={\"emp_length\": [\"< 1 year\", \"1 year\", \"2 years\", \"3 years\", \"4 years\", \"5 years\", \"6 years\", \"7 years\", \"8 years\", \"9 years\", \"10+ years\"]}, color_discrete_sequence=COLOR_PALETTE)"
   ]
  },
  {
   "attachments": {},
   "cell_type": "markdown",
   "metadata": {},
   "source": [
    "### Observation:\n",
    "\n",
    "Most borrowers have a work experience of more than 10 years"
   ]
  },
  {
   "cell_type": "markdown",
   "metadata": {},
   "source": [
    "### Distribution of loan_status"
   ]
  },
  {
   "cell_type": "code",
   "execution_count": null,
   "metadata": {},
   "outputs": [],
   "source": [
    "px.histogram(loan_df['loan_status'], color_discrete_sequence=COLOR_PALETTE)"
   ]
  },
  {
   "attachments": {},
   "cell_type": "markdown",
   "metadata": {},
   "source": [
    "### Observation\n",
    "\n",
    "Most people have fully paid their loans i.e. around 32k, whereas around 5k have defaulted "
   ]
  },
  {
   "attachments": {},
   "cell_type": "markdown",
   "metadata": {},
   "source": [
    "### Analysing the distribution of loan grade"
   ]
  },
  {
   "cell_type": "code",
   "execution_count": null,
   "metadata": {},
   "outputs": [],
   "source": [
    "px.histogram(loan_df,x=\"grade\",barmode=\"group\",category_orders={\"grade\": [\"A\",\"B\",\"C\",\"D\",\"E\",\"F\",\"G\"]}, color_discrete_sequence=COLOR_PALETTE)"
   ]
  },
  {
   "attachments": {},
   "cell_type": "markdown",
   "metadata": {},
   "source": [
    "### Observation\n",
    "The grades have a right-skewed distribution with most of the borrowers having a high grade assigned"
   ]
  },
  {
   "attachments": {},
   "cell_type": "markdown",
   "metadata": {},
   "source": [
    "### Analysing the dsitribution of verification_status\n"
   ]
  },
  {
   "cell_type": "code",
   "execution_count": null,
   "metadata": {},
   "outputs": [],
   "source": [
    "px.histogram(loan_df,x=\"verification_status\",barmode=\"group\", color_discrete_sequence=COLOR_PALETTE)"
   ]
  },
  {
   "attachments": {},
   "cell_type": "markdown",
   "metadata": {},
   "source": [
    "### Analysing the dsitribution of pub_rec_derogatory"
   ]
  },
  {
   "cell_type": "code",
   "execution_count": null,
   "metadata": {
    "scrolled": true
   },
   "outputs": [],
   "source": [
    "\n",
    "px.histogram(loan_df,x=\"pub_rec_bankruptcies\",histnorm='probability',barmode='group',category_orders={\"pub_rec_bankruptcies\": [\"0\",\"1\",\"2\"]}, color_discrete_sequence=COLOR_PALETTE)\n",
    "\n"
   ]
  },
  {
   "attachments": {},
   "cell_type": "markdown",
   "metadata": {},
   "source": [
    "### Observation\n",
    "Almost 99% don't have a record of bankruptcy\n"
   ]
  },
  {
   "attachments": {},
   "cell_type": "markdown",
   "metadata": {},
   "source": [
    "### Analysing the dsitribution of issue_date"
   ]
  },
  {
   "cell_type": "code",
   "execution_count": null,
   "metadata": {},
   "outputs": [],
   "source": [
    "loan_df['issue_d'] = pd.to_datetime(loan_df.issue_d, format='%b-%y')\n",
    "#if there are any loan_df before unix timestamp they are converted to 21 century values, \n",
    "#so subtracting values more than 2020  with 100 will give more actual time\n",
    "loan_df['issue_d'] = loan_df['issue_d'].apply(lambda x: x-pd.DateOffset(years=100) if x.year > 2020 else x)\n",
    "loan_df['issue_d_year'] = loan_df.issue_d.dt.year\n",
    "loan_df['issue_d_month'] = loan_df.issue_d.dt.strftime('%b')\n",
    "loan_df['issue_d_weekday'] = loan_df.issue_d.dt.weekday\n",
    "#loan_df type conversion of year and weekday\n",
    "loan_df['issue_d_year'] = loan_df['issue_d_year'].astype(object)\n",
    "loan_df['issue_d_weekday'] = loan_df['issue_d_weekday'].astype(object)"
   ]
  },
  {
   "cell_type": "code",
   "execution_count": null,
   "metadata": {},
   "outputs": [],
   "source": [
    "px.histogram(loan_df,x=\"issue_d_year\",histnorm='probability', color_discrete_sequence=COLOR_PALETTE)"
   ]
  },
  {
   "cell_type": "code",
   "execution_count": null,
   "metadata": {},
   "outputs": [],
   "source": [
    "px.histogram(loan_df,x=\"issue_d_month\",histnorm='probability', color_discrete_sequence=COLOR_PALETTE)"
   ]
  },
  {
   "attachments": {},
   "cell_type": "markdown",
   "metadata": {},
   "source": [
    "### Observations\n",
    "\n",
    "1. Loans issued by lending club have doubled every year\n",
    "2. At the end of the year i.e. Oct, Nov, Dec , most of the loans have been issued"
   ]
  },
  {
   "attachments": {},
   "cell_type": "markdown",
   "metadata": {},
   "source": [
    "### Analysing the dsitribution of loan term"
   ]
  },
  {
   "cell_type": "code",
   "execution_count": null,
   "metadata": {},
   "outputs": [],
   "source": [
    "px.histogram(loan_df,x=\"term\",histnorm='probability', color_discrete_sequence=COLOR_PALETTE)"
   ]
  },
  {
   "attachments": {},
   "cell_type": "markdown",
   "metadata": {},
   "source": [
    "### Observation\n",
    "\n",
    "1. Most of the loans have been given for a term of 36 months"
   ]
  },
  {
   "attachments": {},
   "cell_type": "markdown",
   "metadata": {},
   "source": [
    "## Segmented Univariate analysis & Bivariate analysis\n"
   ]
  },
  {
   "cell_type": "markdown",
   "metadata": {},
   "source": [
    "### Loan status vs Loan amount"
   ]
  },
  {
   "cell_type": "code",
   "execution_count": null,
   "metadata": {},
   "outputs": [],
   "source": [
    "px.box(loan_df, x=\"loan_status\", y=\"loan_amnt\", color_discrete_sequence=COLOR_PALETTE)"
   ]
  },
  {
   "attachments": {},
   "cell_type": "markdown",
   "metadata": {},
   "source": [
    "### Observation\n",
    "1. Median loan amounts do not vary greatly between the defaulters and non-defaulters. The 75th percentile values , however, are larger for defaulters as compared to non-defaulters\n"
   ]
  },
  {
   "cell_type": "markdown",
   "metadata": {},
   "source": [
    "### Loan amount vs verified status"
   ]
  },
  {
   "cell_type": "code",
   "execution_count": null,
   "metadata": {},
   "outputs": [],
   "source": [
    "px.box(loan_df, x=\"verification_status\", y=\"loan_amnt\", color_discrete_sequence=COLOR_PALETTE)"
   ]
  },
  {
   "cell_type": "code",
   "execution_count": null,
   "metadata": {},
   "outputs": [],
   "source": [
    "px.box(loan_df, x=\"verification_status\", y=\"loan_amnt\",color='Defaulted', color_discrete_sequence=COLOR_PALETTE)"
   ]
  },
  {
   "attachments": {},
   "cell_type": "markdown",
   "metadata": {},
   "source": [
    "### Observation\n",
    "1. Loan amount is higher is for verified sources as compared to source verified and not verified sources\n",
    "2. Within each verification status, the loan amounts issued to defaulters and non-defaulters follow similar distributions"
   ]
  },
  {
   "cell_type": "markdown",
   "metadata": {},
   "source": [
    "### Loan amount vs grade "
   ]
  },
  {
   "cell_type": "code",
   "execution_count": null,
   "metadata": {},
   "outputs": [],
   "source": [
    "\n",
    "px.box(loan_df, x=\"grade\", y=\"loan_amnt\",category_orders={\"grade\": [\"A\",\"B\",\"C\",\"D\",\"E\",\"F\",\"G\"]}, color_discrete_sequence=COLOR_PALETTE)"
   ]
  },
  {
   "attachments": {},
   "cell_type": "markdown",
   "metadata": {},
   "source": [
    "### Observation\n",
    "1. As the loan amount increases, the loan gets riskier and hence the loan grade increases (alphabetically)"
   ]
  },
  {
   "cell_type": "markdown",
   "metadata": {},
   "source": [
    "### Loan amount vs term"
   ]
  },
  {
   "cell_type": "code",
   "execution_count": null,
   "metadata": {},
   "outputs": [],
   "source": [
    "px.box(loan_df, x=\"term\", y=\"loan_amnt\", color_discrete_sequence=COLOR_PALETTE)"
   ]
  },
  {
   "attachments": {},
   "cell_type": "markdown",
   "metadata": {},
   "source": [
    "### Observation\n",
    "1. For higher loan amount, the tenure is high"
   ]
  },
  {
   "cell_type": "markdown",
   "metadata": {},
   "source": [
    "### Loan amount vs home ownership"
   ]
  },
  {
   "cell_type": "code",
   "execution_count": null,
   "metadata": {},
   "outputs": [],
   "source": [
    "px.box(loan_df, x=\"home_ownership\", y=\"loan_amnt\",color='Defaulted', color_discrete_sequence=COLOR_PALETTE)"
   ]
  },
  {
   "attachments": {},
   "cell_type": "markdown",
   "metadata": {},
   "source": [
    "### Observation\n",
    "1. Defaulters who live in \"mortgaged\" houses or \"other\" form of housing have requested for higher loan amounts as compared to non-defaulters and the remaining housing categories"
   ]
  },
  {
   "cell_type": "markdown",
   "metadata": {},
   "source": [
    "### Loan amount vs issued year and issued month"
   ]
  },
  {
   "cell_type": "code",
   "execution_count": null,
   "metadata": {},
   "outputs": [],
   "source": [
    "px.box(loan_df, x=\"issue_d_year\", y=\"loan_amnt\", color_discrete_sequence=COLOR_PALETTE)"
   ]
  },
  {
   "attachments": {},
   "cell_type": "markdown",
   "metadata": {},
   "source": [
    "### Observation\n",
    "1. The loan amounts requested by borrowers, on average, have increased over the years"
   ]
  },
  {
   "cell_type": "code",
   "execution_count": null,
   "metadata": {},
   "outputs": [],
   "source": [
    "px.box(loan_df, x=\"issue_d_year\", y=\"loan_amnt\",color='Defaulted', color_discrete_sequence=COLOR_PALETTE)"
   ]
  },
  {
   "cell_type": "code",
   "execution_count": null,
   "metadata": {},
   "outputs": [],
   "source": [
    "px.box(loan_df, x=\"issue_d_month\", y=\"loan_amnt\", color_discrete_sequence=COLOR_PALETTE)"
   ]
  },
  {
   "cell_type": "code",
   "execution_count": null,
   "metadata": {},
   "outputs": [],
   "source": [
    "px.box(loan_df, x=\"issue_d_month\", y=\"loan_amnt\",color='Defaulted', color_discrete_sequence=COLOR_PALETTE)"
   ]
  },
  {
   "attachments": {},
   "cell_type": "markdown",
   "metadata": {},
   "source": [
    "### Observation\n",
    "1. Except for the years 2009 & 2010, defaulters had, on average, requested for higher loan amounts than non-defaulters\n",
    "2. Towards the second half of the year, defaulters had, on average, requested for higher loan amounts than non-defaulters"
   ]
  },
  {
   "attachments": {},
   "cell_type": "markdown",
   "metadata": {},
   "source": [
    "### Interest rate v/s loan tenure"
   ]
  },
  {
   "cell_type": "code",
   "execution_count": null,
   "metadata": {},
   "outputs": [],
   "source": [
    "px.box(loan_df, x=\"term\", y=\"int_rate_numeric\", color_discrete_sequence=COLOR_PALETTE)"
   ]
  },
  {
   "attachments": {},
   "cell_type": "markdown",
   "metadata": {},
   "source": [
    "### Observation\n",
    "\n",
    "1. For 60 months term , interest rate charged is higher"
   ]
  },
  {
   "attachments": {},
   "cell_type": "markdown",
   "metadata": {},
   "source": [
    "### Interest rate v/s Employee years of experience"
   ]
  },
  {
   "cell_type": "code",
   "execution_count": null,
   "metadata": {},
   "outputs": [],
   "source": [
    "px.box(loan_df, x=\"emp_length\", y=\"int_rate_numeric\",category_orders={\"emp_length\": [\"< 1 year\", \"1 year\", \"2 years\", \"3 years\", \"4 years\", \"5 years\", \"6 years\", \"7 years\", \"8 years\", \"9 years\", \"10+ years\"],}, color_discrete_sequence=COLOR_PALETTE\n",
    "    )"
   ]
  },
  {
   "attachments": {},
   "cell_type": "markdown",
   "metadata": {},
   "source": [
    "### Observation\n",
    "1. We can see that there is not much differnce in interest rates across employee experience"
   ]
  },
  {
   "attachments": {},
   "cell_type": "markdown",
   "metadata": {},
   "source": [
    "### Interest rate v/s loan purpose"
   ]
  },
  {
   "cell_type": "code",
   "execution_count": null,
   "metadata": {},
   "outputs": [],
   "source": [
    "px.box(loan_df, x=\"purpose\", y=\"int_rate_numeric\", color_discrete_sequence=COLOR_PALETTE, color=\"Defaulted\")"
   ]
  },
  {
   "cell_type": "markdown",
   "metadata": {},
   "source": [
    "### Observation\n",
    "1. for small business ,debt_consolidation and house , loans are given at high interest"
   ]
  },
  {
   "attachments": {},
   "cell_type": "markdown",
   "metadata": {},
   "source": [
    "### Interest rate v/s verification status"
   ]
  },
  {
   "cell_type": "code",
   "execution_count": null,
   "metadata": {},
   "outputs": [],
   "source": [
    "px.box(loan_df, x=\"verification_status\", y=\"int_rate_numeric\", color_discrete_sequence=COLOR_PALETTE)"
   ]
  },
  {
   "attachments": {},
   "cell_type": "markdown",
   "metadata": {},
   "source": [
    "### Interest rate v/s loan grade"
   ]
  },
  {
   "cell_type": "code",
   "execution_count": null,
   "metadata": {},
   "outputs": [],
   "source": [
    "px.box(loan_df, x=\"grade\", y=\"int_rate_numeric\",category_orders={\"grade\": [\"A\",\"B\",\"C\",\"D\",\"E\",\"F\",\"G\"]}, color_discrete_sequence=COLOR_PALETTE)"
   ]
  },
  {
   "attachments": {},
   "cell_type": "markdown",
   "metadata": {},
   "source": [
    "### Interest rate v/s sub grade"
   ]
  },
  {
   "cell_type": "code",
   "execution_count": null,
   "metadata": {},
   "outputs": [],
   "source": [
    "px.box(loan_df, x=\"sub_grade\", y=\"int_rate_numeric\",category_orders={\"sub_grade\": [\"A1\",\"A2\",\"A3\",\"A4\",\"A5\",\"B1\",\"B2\",\"B3\",\"B4\",\"B5\",\"C1\",\"C2\",\"C3\",\"C4\",\"C5\",\"D1\",\"D2\",\"D3\",\"D4\",\"D5\",\"E1\",\"E2\",\"E3\",\"E4\",\"E5\",\"F1\",\"F2\",\"F3\",\"F4\",\"F5\",\"G1\",\"G2\",\"G3\",\"G4\",\"G5\"]}, color_discrete_sequence=COLOR_PALETTE)"
   ]
  },
  {
   "attachments": {},
   "cell_type": "markdown",
   "metadata": {},
   "source": [
    "### Observation\n",
    "1. Interest rate increases with decrease in grade"
   ]
  },
  {
   "cell_type": "markdown",
   "metadata": {},
   "source": [
    "### How does employee years of experience affect probability of default?"
   ]
  },
  {
   "cell_type": "code",
   "execution_count": null,
   "metadata": {},
   "outputs": [],
   "source": [
    "px.histogram(\n",
    "    loan_df, x=\"emp_length\", color=\"Defaulted\", color_discrete_sequence=COLOR_PALETTE, \n",
    "    barmode=\"group\", \n",
    "    category_orders={\"emp_length\": [\"< 1 year\", \"1 year\", \"2 years\", \"3 years\", \"4 years\", \"5 years\", \"6 years\", \"7 years\", \"8 years\", \"9 years\", \"10+ years\"]}\n",
    "    )"
   ]
  },
  {
   "cell_type": "code",
   "execution_count": null,
   "metadata": {},
   "outputs": [],
   "source": [
    "pd.crosstab(loan_df['emp_length'], loan_df['loan_status'],\n",
    "            normalize='index').sort_index().round(2).style.background_gradient(cmap = SNS_CMAP)"
   ]
  },
  {
   "attachments": {},
   "cell_type": "markdown",
   "metadata": {},
   "source": [
    "### Observation\n",
    "1. The probability of default is slightly higher for borrowers that have more than 10 years of experience as compared to the other levels"
   ]
  },
  {
   "cell_type": "markdown",
   "metadata": {},
   "source": [
    "## How does annual income affect probability of default?"
   ]
  },
  {
   "cell_type": "code",
   "execution_count": null,
   "metadata": {},
   "outputs": [],
   "source": [
    "px.violin(loan_df[loan_df.annual_inc <= 200000], x=\"annual_inc\", color=\"Defaulted\", color_discrete_sequence=COLOR_PALETTE, box=True)"
   ]
  },
  {
   "attachments": {},
   "cell_type": "markdown",
   "metadata": {},
   "source": [
    "### observation\n",
    "1. Annual income is, on average, lower for defaulters as compared to non-defaulters\n"
   ]
  },
  {
   "cell_type": "markdown",
   "metadata": {},
   "source": [
    "## How does loan grade affect probability of default?"
   ]
  },
  {
   "cell_type": "code",
   "execution_count": null,
   "metadata": {},
   "outputs": [],
   "source": [
    "px.histogram(\n",
    "    loan_df, x=\"grade\", color=\"Defaulted\", histfunc=\"count\", barmode=\"group\", \n",
    "    category_orders={\"grade\": [\"A\", \"B\", \"C\", \"D\", \"E\", \"F\", \"G\"]}, color_discrete_sequence=COLOR_PALETTE)"
   ]
  },
  {
   "cell_type": "code",
   "execution_count": null,
   "metadata": {},
   "outputs": [],
   "source": [
    "pd.crosstab(loan_df['grade'], loan_df['loan_status'],\n",
    "            normalize='index').round(2).style.background_gradient(cmap = SNS_CMAP)"
   ]
  },
  {
   "attachments": {},
   "cell_type": "markdown",
   "metadata": {},
   "source": [
    "### observation\n",
    "1. The proability of default is higher for low-grade loans than high-grade loans"
   ]
  },
  {
   "cell_type": "markdown",
   "metadata": {},
   "source": [
    "## How does loan sub grade affect probability of default?"
   ]
  },
  {
   "cell_type": "code",
   "execution_count": null,
   "metadata": {},
   "outputs": [],
   "source": [
    "px.histogram(\n",
    "    loan_df, x=\"sub_grade\", color=\"Defaulted\", histfunc=\"count\", barmode=\"group\", \n",
    "    category_orders={\"sub_grade\": loan_df[\"sub_grade\"].value_counts().index.sort_values()}, color_discrete_sequence=COLOR_PALETTE)"
   ]
  },
  {
   "cell_type": "code",
   "execution_count": null,
   "metadata": {},
   "outputs": [],
   "source": [
    "pd.crosstab(loan_df['sub_grade'], loan_df['loan_status'],\n",
    "            normalize='index').round(2).style.background_gradient(cmap = SNS_CMAP)"
   ]
  },
  {
   "attachments": {},
   "cell_type": "markdown",
   "metadata": {},
   "source": [
    "### observation\n",
    "1. The proability of default is higher for low subgrade loans than high subgrade loans"
   ]
  },
  {
   "cell_type": "markdown",
   "metadata": {},
   "source": [
    "## How does interest rate affect probability of default?"
   ]
  },
  {
   "cell_type": "code",
   "execution_count": null,
   "metadata": {},
   "outputs": [],
   "source": [
    "px.violin(loan_df, x=\"int_rate_numeric\", color=\"Defaulted\", color_discrete_sequence=COLOR_PALETTE, box=True)"
   ]
  },
  {
   "attachments": {},
   "cell_type": "markdown",
   "metadata": {},
   "source": [
    "## Observation\n",
    "\n",
    "1. People who have defaulted have higher interest rates on their loans as compared to those that haven't"
   ]
  },
  {
   "attachments": {},
   "cell_type": "markdown",
   "metadata": {},
   "source": [
    "## How does loan term affect probability of default?"
   ]
  },
  {
   "cell_type": "code",
   "execution_count": null,
   "metadata": {},
   "outputs": [],
   "source": [
    "px.histogram(\n",
    "    loan_df, x=\"term\", color=\"Defaulted\", color_discrete_sequence=COLOR_PALETTE, \n",
    "    barmode=\"group\")"
   ]
  },
  {
   "cell_type": "code",
   "execution_count": null,
   "metadata": {},
   "outputs": [],
   "source": [
    "pd.crosstab(loan_df['term'], loan_df['loan_status'],\n",
    "            normalize='index').round(2).style.background_gradient(cmap = SNS_CMAP)"
   ]
  },
  {
   "attachments": {},
   "cell_type": "markdown",
   "metadata": {},
   "source": [
    "## Observation\n",
    "\n",
    "1. People who have defaulted have higher loan tenures have a higher probability of defaulting than those who don't"
   ]
  },
  {
   "cell_type": "markdown",
   "metadata": {},
   "source": [
    "## How does Debt to Income ratio impact default probability?"
   ]
  },
  {
   "cell_type": "code",
   "execution_count": null,
   "metadata": {},
   "outputs": [],
   "source": [
    "px.violin(loan_df, x=\"dti\", color=\"Defaulted\", color_discrete_sequence=COLOR_PALETTE, box=True)"
   ]
  },
  {
   "attachments": {},
   "cell_type": "markdown",
   "metadata": {},
   "source": [
    "### Observation\n",
    "1. As should be expected, debt to income ratio is higher for defaulters"
   ]
  },
  {
   "cell_type": "markdown",
   "metadata": {},
   "source": [
    "## How does home ownership affect default probability?"
   ]
  },
  {
   "cell_type": "code",
   "execution_count": null,
   "metadata": {},
   "outputs": [],
   "source": [
    "px.histogram(\n",
    "    loan_df[loan_df.home_ownership != \"NONE\"], x=\"home_ownership\", color=\"Defaulted\", histfunc=\"count\", barmode=\"group\", color_discrete_sequence=COLOR_PALETTE)"
   ]
  },
  {
   "cell_type": "code",
   "execution_count": null,
   "metadata": {},
   "outputs": [],
   "source": [
    "df = loan_df[loan_df.home_ownership != \"NONE\"]\n",
    "pd.crosstab(df['home_ownership'], df['loan_status'],\n",
    "            normalize='index').round(2).style.background_gradient(cmap = SNS_CMAP)"
   ]
  },
  {
   "attachments": {},
   "cell_type": "markdown",
   "metadata": {},
   "source": [
    "### Observation\n",
    "1. Home ownership alone does not seem to have a huge effect on default probability. While it seems like the default probability is higher for those who have \"other\" home ownership, the sample size is too small to make such a claim here"
   ]
  },
  {
   "attachments": {},
   "cell_type": "markdown",
   "metadata": {},
   "source": [
    "## How does verification status affect default probability?"
   ]
  },
  {
   "cell_type": "code",
   "execution_count": null,
   "metadata": {},
   "outputs": [],
   "source": [
    "pd.crosstab(loan_df[\"verification_status\"], loan_df[\"loan_status\"], \n",
    "            normalize='index').round(2).style.background_gradient(cmap = SNS_CMAP)"
   ]
  },
  {
   "attachments": {},
   "cell_type": "markdown",
   "metadata": {},
   "source": [
    "### Observation\n",
    "1. Verified loans seem to have a higher default probability than not verified or source verified loans"
   ]
  },
  {
   "cell_type": "markdown",
   "metadata": {},
   "source": [
    "## How does loan purpose affect default probability?"
   ]
  },
  {
   "cell_type": "code",
   "execution_count": null,
   "metadata": {
    "scrolled": true
   },
   "outputs": [],
   "source": [
    "pd.crosstab(loan_df[\"purpose\"], loan_df['loan_status'], \n",
    "                   normalize='index').round(2).style.background_gradient(cmap = SNS_CMAP)"
   ]
  },
  {
   "attachments": {},
   "cell_type": "markdown",
   "metadata": {},
   "source": [
    "### Observation :\n",
    "    1. For small business, defaulters are significantly higher. This could be due to the high interest rates charged to small business owners."
   ]
  },
  {
   "cell_type": "markdown",
   "metadata": {},
   "source": [
    "### How does pub_rec_bankruptcies affect default probability"
   ]
  },
  {
   "cell_type": "code",
   "execution_count": null,
   "metadata": {},
   "outputs": [],
   "source": [
    "pd.crosstab(loan_df[\"pub_rec_bankruptcies\"], loan_df[\"loan_status\"],\n",
    "            normalize='index').round(2).style.background_gradient(cmap = SNS_CMAP)"
   ]
  },
  {
   "attachments": {},
   "cell_type": "markdown",
   "metadata": {},
   "source": [
    "### Observation :\n",
    "1. As the public record for bankrutupcy increases, default rate increase"
   ]
  },
  {
   "attachments": {},
   "cell_type": "markdown",
   "metadata": {},
   "source": [
    "### How does default ratio vary for different interest rate groups? (Type-driven metric)"
   ]
  },
  {
   "cell_type": "code",
   "execution_count": null,
   "metadata": {},
   "outputs": [],
   "source": [
    "loan_df['int_rate_group'] = pd.cut(loan_df['int_rate_numeric'], bins=5,precision =0,labels=['5%-9%','9%-13%','13%-17%','17%-21%','21%-24%'])\n",
    "\n",
    "pd.crosstab(loan_df[\"int_rate_group\"], loan_df[\"loan_status\"],\n",
    "            normalize='index').round(2).style.background_gradient(cmap = SNS_CMAP)\n"
   ]
  },
  {
   "attachments": {},
   "cell_type": "markdown",
   "metadata": {},
   "source": [
    "## Conclusion from univariate and univariate segmented analysis"
   ]
  },
  {
   "attachments": {},
   "cell_type": "markdown",
   "metadata": {},
   "source": [
    "\n",
    " 1. As the interest rate increase, no. of defaulters increases\n",
    " 2. As record of pub_rec_bankruptcies increase, no. of defaulters increases\n",
    " 3. People taking loans for a purpose of small business have highest rate of defaulters, as their interest rate is higher\n",
    " 4. People who have their incomes verified by LC are the highest defaulters and also their interest rates are higher\n",
    " 5. For home_ownership, we don't see any significant difference, though people with \"other\" has the highest ratio\n",
    " 6. As loan grades and subgrades deteriorate, the probability of default increases\n",
    " 7. As debt to income ratio increases, rate of default also increases\n",
    " 8. As annual income increases, probability of default reduces\n",
    " 9. As loan tenure increases, probability of default increases\n",
    " 10. Employee years of experience does not have a great impact on default probability "
   ]
  }
 ],
 "metadata": {
  "kernelspec": {
   "display_name": "Python 3 (ipykernel)",
   "language": "python",
   "name": "python3"
  },
  "language_info": {
   "codemirror_mode": {
    "name": "ipython",
    "version": 3
   },
   "file_extension": ".py",
   "mimetype": "text/x-python",
   "name": "python",
   "nbconvert_exporter": "python",
   "pygments_lexer": "ipython3",
   "version": "3.9.12"
  },
  "vscode": {
   "interpreter": {
    "hash": "6b8c41ea4ad04e00615f2bcb23dd028483504716ff5b5be46ef549940a4cbcbb"
   }
  }
 },
 "nbformat": 4,
 "nbformat_minor": 2
}
